{
 "cells": [
  {
   "cell_type": "code",
   "execution_count": 1,
   "id": "6bfe0df2-7d1a-4ab1-bf71-48a1a1223a6d",
   "metadata": {},
   "outputs": [
    {
     "name": "stdout",
     "output_type": "stream",
     "text": [
      "Matriz A:\n",
      " [[ 4. -2.  1.]\n",
      " [20. -7. 12.]\n",
      " [-8. 13. 17.]] \n",
      "\n",
      "Matriz L:\n",
      " [[ 1.  0.  0.]\n",
      " [ 5.  1.  0.]\n",
      " [-2.  3.  1.]] \n",
      "\n",
      "Matriz U:\n",
      " [[ 4. -2.  1.]\n",
      " [ 0.  3.  7.]\n",
      " [ 0.  0. -2.]]\n"
     ]
    }
   ],
   "source": [
    "import numpy as np\n",
    "\n",
    "def factor_LU(M):\n",
    "    U = M.astype(float)\n",
    "    n = M.shape[0]\n",
    "    L = np.eye(n)\n",
    "    \n",
    "    for j in range(0,n-1):\n",
    "        for i in range(j+1,n):\n",
    "            k = U[i][j]/U[j][j]\n",
    "            U[i] = U[i] - k*U[j]\n",
    "            \n",
    "            L[i][j] = k \n",
    "        \n",
    "    return L,U\n",
    "\n",
    "A = np.array([[4.,-2.,1.],[20.,-7.,12.],[-8.,13., 17.]])\n",
    "print(\"Matriz A:\\n\",A,\"\\n\\nMatriz L:\\n\",factor_LU(A)[0],\"\\n\\nMatriz U:\\n\",factor_LU(A)[1])"
   ]
  }
 ],
 "metadata": {
  "kernelspec": {
   "display_name": "Python 3",
   "language": "python",
   "name": "python3"
  },
  "language_info": {
   "codemirror_mode": {
    "name": "ipython",
    "version": 3
   },
   "file_extension": ".py",
   "mimetype": "text/x-python",
   "name": "python",
   "nbconvert_exporter": "python",
   "pygments_lexer": "ipython3",
   "version": "3.12.5"
  }
 },
 "nbformat": 4,
 "nbformat_minor": 5
}
