{
 "cells": [
  {
   "cell_type": "code",
   "execution_count": 1,
   "id": "6bfe0df2-7d1a-4ab1-bf71-48a1a1223a6d",
   "metadata": {},
   "outputs": [
    {
     "name": "stdout",
     "output_type": "stream",
     "text": [
      "Matriz A:\n",
      " [[ 1  0  0]\n",
      " [ 5  1  0]\n",
      " [-2  3  1]] \n",
      "\n",
      "Matriz B:\n",
      " [[ 4 -2  1]\n",
      " [ 0  3  7]\n",
      " [ 0  0  2]] \n",
      "\n",
      "Matriz A*B:\n",
      " [[ 4. -2.  1.]\n",
      " [20. -7. 12.]\n",
      " [-8. 13. 21.]] \n",
      "\n",
      "Resultado numpy:\n",
      " [[ 4 -2  1]\n",
      " [20 -7 12]\n",
      " [-8 13 21]]\n"
     ]
    }
   ],
   "source": [
    "import numpy as np\n",
    "\n",
    "def mult_matrices(M1,M2):\n",
    "    m = M1.shape[0]\n",
    "    p = M2.shape[1]\n",
    "    n = M1.shape[1]\n",
    "    \n",
    "    M = np.zeros((m,p))\n",
    "    M = M.astype(float)\n",
    "    \n",
    "    for i in range(m):\n",
    "        for j in range(p):\n",
    "            for k in range(n):\n",
    "                M[i][j] += M1[i][k] * M2[k][j]\n",
    "            \n",
    "    return M\n",
    "\n",
    "def generar_matrices(m, n, p, min_val=-10, max_val=10):\n",
    "    A = np.random.randint(min_val, max_val+1, size=(m, n))\n",
    "    B = np.random.randint(min_val, max_val+1, size=(n, p))\n",
    "    return A, B\n",
    "\n",
    "A, B = np.array([[1,0,0],[5,1,0],[-2,3,1]]), np.array([[4,-2,1],[0,3,7],[0,0,2]])\n",
    "\n",
    "C = mult_matrices(A,B)\n",
    "print(\"Matriz A:\\n\",A,\"\\n\\nMatriz B:\\n\",B,\"\\n\\nMatriz A*B:\\n\",C,\"\\n\\nResultado numpy:\\n\", A @ B)\n"
   ]
  }
 ],
 "metadata": {
  "kernelspec": {
   "display_name": "Python 3",
   "language": "python",
   "name": "python3"
  },
  "language_info": {
   "codemirror_mode": {
    "name": "ipython",
    "version": 3
   },
   "file_extension": ".py",
   "mimetype": "text/x-python",
   "name": "python",
   "nbconvert_exporter": "python",
   "pygments_lexer": "ipython3",
   "version": "3.12.5"
  }
 },
 "nbformat": 4,
 "nbformat_minor": 5
}
