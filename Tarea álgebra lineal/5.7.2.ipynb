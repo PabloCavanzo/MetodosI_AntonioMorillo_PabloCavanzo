{
 "cells": [
  {
   "cell_type": "code",
   "execution_count": 1,
   "id": "6bfe0df2-7d1a-4ab1-bf71-48a1a1223a6d",
   "metadata": {},
   "outputs": [
    {
     "name": "stdout",
     "output_type": "stream",
     "text": [
      "Matriz A:\n",
      " [[ 3 -1 -1]\n",
      " [-1  3  1]\n",
      " [ 2  1  4]] \n",
      "\n",
      "Vector b:\n",
      " [1. 3. 7.] \n",
      "\n",
      "Solución:\n",
      " [1. 1. 1.]\n"
     ]
    }
   ],
   "source": [
    "import numpy as np\n",
    "\n",
    "def GaussSeidel(A,b,x, itmax = 100, tolerancia = 1e-16):\n",
    "    for it in range(itmax):\n",
    "        x_new = np.copy(x)\n",
    "              \n",
    "        for i in range(A.shape[0]):\n",
    "            suma = 0\n",
    "            for j in range(A.shape[1]):\n",
    "                if i != j:\n",
    "                    suma += A[i][j]*x_new[j]\n",
    "            \n",
    "            x_new[i] = (b[i] - suma)/A[i][i]\n",
    "                    \n",
    "        if np.linalg.norm(np.dot(A,x_new)-b) < tolerancia:\n",
    "            break\n",
    "\n",
    "        x = np.copy(x_new)\n",
    "        \n",
    "    return x,it\n",
    "\n",
    "A = np.array([[3,-1,-1],[-1,3,1],[2,1,4]])\n",
    "b = np.array([1.,3.,7.])\n",
    "x0 = np.array([0.,0.,0.])\n",
    "\n",
    "x,it = GaussSeidel(A,b,x0)\n",
    "\n",
    "print(\"Matriz A:\\n\",A,\"\\n\\nVector b:\\n\",b,\"\\n\\nSolución:\\n\",x)"
   ]
  }
 ],
 "metadata": {
  "kernelspec": {
   "display_name": "Python 3",
   "language": "python",
   "name": "python3"
  },
  "language_info": {
   "codemirror_mode": {
    "name": "ipython",
    "version": 3
   },
   "file_extension": ".py",
   "mimetype": "text/x-python",
   "name": "python",
   "nbconvert_exporter": "python",
   "pygments_lexer": "ipython3",
   "version": "3.12.5"
  }
 },
 "nbformat": 4,
 "nbformat_minor": 5
}
