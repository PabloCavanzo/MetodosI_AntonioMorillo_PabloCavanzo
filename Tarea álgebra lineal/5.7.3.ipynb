{
 "cells": [
  {
   "cell_type": "code",
   "execution_count": 1,
   "id": "6bfe0df2-7d1a-4ab1-bf71-48a1a1223a6d",
   "metadata": {},
   "outputs": [
    {
     "name": "stdout",
     "output_type": "stream",
     "text": [
      "Solución Jacobi:       [1. 1. 1.] convirgió en 34 iteraciones.\n",
      "Solución Gauss-Seidel: [1. 1. 1.] convirgió en 25 iteraciones.\n"
     ]
    }
   ],
   "source": [
    "import numpy as np\n",
    "\n",
    "class SistemaLineal:\n",
    "    def __init__(self, A, b):\n",
    "        self.A = A\n",
    "        self.b = b\n",
    "\n",
    "    def Jacobi(self, x, itmax=1000, tolerancia=1e-16):\n",
    "        for it in range(itmax):\n",
    "            x_new = np.copy(x)     \n",
    "            for i in range(self.A.shape[0]):\n",
    "                suma = 0\n",
    "                for j in range(self.A.shape[1]):\n",
    "                    if i != j:\n",
    "                        suma += self.A[i][j] * x[j]\n",
    "                \n",
    "                x_new[i] = (self.b[i] - suma) / self.A[i][i]\n",
    "                        \n",
    "            if np.linalg.norm(np.dot(self.A, x_new) - self.b) < tolerancia:\n",
    "                break\n",
    "\n",
    "            x = np.copy(x_new)\n",
    "            \n",
    "        return x, it\n",
    "\n",
    "    def GaussSeidel(self, x, itmax=1000, tolerancia=1e-16):\n",
    "        for it in range(itmax):\n",
    "            x_new = np.copy(x)\n",
    "            for i in range(self.A.shape[0]):\n",
    "                suma = 0\n",
    "                for j in range(self.A.shape[1]):\n",
    "                    if i != j:\n",
    "                        suma += self.A[i][j] * x_new[j]\n",
    "                \n",
    "                x_new[i] = (self.b[i] - suma) / self.A[i][i]\n",
    "                        \n",
    "            if np.linalg.norm(np.dot(self.A, x_new) - self.b) < tolerancia:\n",
    "                break\n",
    "\n",
    "            x = np.copy(x_new)\n",
    "            \n",
    "        return x, it\n",
    "\n",
    "A = np.array([[3, -1, -1],\n",
    "              [-1, 3, 1],\n",
    "              [2, 1, 4]], dtype=float)\n",
    "b = np.array([1., 3., 7.])\n",
    "x0 = np.array([0., 0., 0.])\n",
    "\n",
    "sistema = SistemaLineal(A, b)\n",
    "xj, itj = sistema.Jacobi(x0)\n",
    "xg, itg = sistema.GaussSeidel(x0)\n",
    "print(\"Solución Jacobi:       \" + str(xj) + \" convirgió en \" + str(itj) + \" iteraciones.\")\n",
    "print(\"Solución Gauss-Seidel: \" + str(xg) + \" convirgió en \" + str(itg) + \" iteraciones.\")\n"
   ]
  }
 ],
 "metadata": {
  "kernelspec": {
   "display_name": "Python 3",
   "language": "python",
   "name": "python3"
  },
  "language_info": {
   "codemirror_mode": {
    "name": "ipython",
    "version": 3
   },
   "file_extension": ".py",
   "mimetype": "text/x-python",
   "name": "python",
   "nbconvert_exporter": "python",
   "pygments_lexer": "ipython3",
   "version": "3.12.5"
  }
 },
 "nbformat": 4,
 "nbformat_minor": 5
}
