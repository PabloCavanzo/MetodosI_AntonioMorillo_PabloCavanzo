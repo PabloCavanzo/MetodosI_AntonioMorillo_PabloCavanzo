{
 "cells": [
  {
   "cell_type": "code",
   "execution_count": 4,
   "id": "6bfe0df2-7d1a-4ab1-bf71-48a1a1223a6d",
   "metadata": {},
   "outputs": [
    {
     "name": "stdout",
     "output_type": "stream",
     "text": [
      "Jacobiano de segundo orden h = 0.01:\n",
      " [[ 6.          0.24740293  0.24740293]\n",
      " [ 0.37376854  9.          0.32801836]\n",
      " [-1.16820604 -1.16820604 60.        ]]\n",
      "\n",
      "Jacobiano de cuarto orden h = 0.01:\n",
      " [[ 6.          0.24740396  0.24740396]\n",
      " [ 0.37377753  9.          0.32802064]\n",
      " [-1.16820117 -1.16820117 60.        ]]\n",
      "\n",
      "Jacobiano de segundo orden igualado con h = 0.00001:\n",
      " [[ 6.          0.24740396  0.24740396]\n",
      " [ 0.37377753  9.          0.32802064]\n",
      " [-1.16820117 -1.16820117 60.        ]]\n"
     ]
    }
   ],
   "source": [
    "import numpy as np\n",
    "\n",
    "def GetJacobian2(f, x, h):\n",
    "    m = len(f)\n",
    "    n = x.shape[0]\n",
    "    J = np.zeros((m, n))\n",
    "  \n",
    "    for i in range(m):\n",
    "        for j in range(n):\n",
    "            rf = x.copy()\n",
    "            rb = x.copy()\n",
    "      \n",
    "            rf[j] += h\n",
    "            rb[j] -= h\n",
    "            \n",
    "            J[i][j] = (f[i](*rf) - f[i](*rb)) / (2 * h)\n",
    "      \n",
    "    return J\n",
    "\n",
    "def GetJacobian4(f, x, h):\n",
    "    m = len(f)\n",
    "    n = x.shape[0]\n",
    "    J = np.zeros((m, n))\n",
    "  \n",
    "    for i in range(m):\n",
    "        for j in range(n):\n",
    "            rf2 = x.copy()\n",
    "            rf = x.copy()\n",
    "            rb = x.copy()\n",
    "            rb2 = x.copy()\n",
    "      \n",
    "            rf2[j] += 2 * h\n",
    "            rf[j] += h\n",
    "            rb[j] -= h\n",
    "            rb2[j] -= 2 * h\n",
    "            \n",
    "            f_rf2 = f[i](*rf2)\n",
    "            f_rf = f[i](*rf)\n",
    "            f_rb = f[i](*rb)\n",
    "            f_rb2 = f[i](*rb2)\n",
    "            \n",
    "            J[i, j] = (-f_rf2 + 8 * f_rf - 8 * f_rb + f_rb2) / (12 * h)\n",
    "      \n",
    "    return J\n",
    "\n",
    "Sistema=(lambda x1,x2,x3: 6*x1 - 2*np.cos(x2*x3) - 1,\\\n",
    "            lambda x1,x2,x3: 9*x2 + np.sqrt(x1**2 + np.sin(x3)+1.06) + 0.9,\\\n",
    "            lambda x1,x2,x3: 60*x3 + 3*np.exp(-x1*x2) + 10*np.pi - 3)\n",
    "x0 = np.array([0.5,0.5,0.5])\n",
    "\n",
    "print(\"Jacobiano de segundo orden h = 0.01:\\n\", GetJacobian2(Sistema,x0,0.01))\n",
    "print(\"\\nJacobiano de cuarto orden h = 0.01:\\n\", GetJacobian4(Sistema,x0,0.01))\n",
    "print(\"\\nJacobiano de segundo orden igualado con h = 0.00001:\\n\", GetJacobian2(Sistema,x0,0.00001))"
   ]
  }
 ],
 "metadata": {
  "kernelspec": {
   "display_name": "Python 3",
   "language": "python",
   "name": "python3"
  },
  "language_info": {
   "codemirror_mode": {
    "name": "ipython",
    "version": 3
   },
   "file_extension": ".py",
   "mimetype": "text/x-python",
   "name": "python",
   "nbconvert_exporter": "python",
   "pygments_lexer": "ipython3",
   "version": "3.12.5"
  }
 },
 "nbformat": 4,
 "nbformat_minor": 5
}
