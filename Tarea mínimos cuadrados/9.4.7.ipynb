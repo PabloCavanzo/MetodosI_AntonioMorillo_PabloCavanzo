{
  "cells": [
    {
      "cell_type": "code",
      "execution_count": 34,
      "metadata": {
        "id": "3L6qlWimHgzo"
      },
      "outputs": [
        {
          "name": "stdout",
          "output_type": "stream",
          "text": [
            "Proyección con mínimos cuadrados:  [-2.  3.  4.  0.]\n",
            "Proyección con gram-shcmidt: [-2.  3.  4.  0.]\n"
          ]
        }
      ],
      "source": [
        "import numpy as np\n",
        "\n",
        "u1 = np.array([3., 1., 0., 1.])\n",
        "u2 = np.array([1., 2., 1., 1.])\n",
        "u3 = np.array([-1., 0., 2., -1.])\n",
        "b = np.array([-3., -3., 8., 9.])\n",
        "At = np.array([u1,u2,u3])\n",
        "x = np.linalg.solve(np.dot(At,At.T),np.dot(At,b))\n",
        "proy1 = np.dot(At.T,x)\n",
        "\n",
        "def gram_schmidt(vectors):\n",
        "    base = []\n",
        "    for v in vectors:\n",
        "        for u in base:\n",
        "            v -= np.dot(v,u) / np.dot(u,u) * u \n",
        "        base.append(v / np.linalg.norm(v))\n",
        "        \n",
        "    return base\n",
        "\n",
        "base = gram_schmidt([u1, u2, u3])\n",
        "v1, v2, v3 = base\n",
        "\n",
        "c1 = np.dot(b,v1)\n",
        "c2 = np.dot(b,v2)\n",
        "c3 = np.dot(b,v3)\n",
        "\n",
        "proy = c1 * v1 + c2 * v2 + c3 * v3\n",
        "print(\"Proyección con mínimos cuadrados: \", proy1)\n",
        "print(\"Proyección con gram-shcmidt:\", proy)\n"
      ]
    }
  ],
  "metadata": {
    "colab": {
      "provenance": []
    },
    "kernelspec": {
      "display_name": "Python 3",
      "name": "python3"
    },
    "language_info": {
      "codemirror_mode": {
        "name": "ipython",
        "version": 3
      },
      "file_extension": ".py",
      "mimetype": "text/x-python",
      "name": "python",
      "nbconvert_exporter": "python",
      "pygments_lexer": "ipython3",
      "version": "3.12.5"
    }
  },
  "nbformat": 4,
  "nbformat_minor": 0
}
