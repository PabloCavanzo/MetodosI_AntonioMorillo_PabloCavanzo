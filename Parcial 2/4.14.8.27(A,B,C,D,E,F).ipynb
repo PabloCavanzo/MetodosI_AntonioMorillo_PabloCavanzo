{
  "cells": [
    {
      "cell_type": "markdown",
      "metadata": {
        "colab_type": "text",
        "id": "view-in-github"
      },
      "source": [
        "<a href=\"https://colab.research.google.com/github/PabloCavanzo/MetodosI_AntonioMorillo_PabloCavanzo/blob/main/Parcial%202/4.14.8.26.(E%2CF).ipynb\" target=\"_parent\"><img src=\"https://colab.research.google.com/assets/colab-badge.svg\" alt=\"Open In Colab\"/></a>"
      ]
    },
    {
      "cell_type": "code",
      "execution_count": 80,
      "metadata": {
        "colab": {
          "base_uri": "https://localhost:8080/"
        },
        "id": "bAAaE6qpwau2",
        "outputId": "82c1b903-801e-45c1-8f0e-1f5d8135ea6e"
      },
      "outputs": [
        {
          "name": "stdout",
          "output_type": "stream",
          "text": [
            "Pesos encontrados: [0.62183523 0.04568682 0.33282177 1.00122086]\n",
            "Raíces encontradas: [ 0.75282887 -0.3941277  -0.89408399 -0.18741275]\n",
            "Estimación de la integral: 1.6880862432038897 ≈ 1.69\n"
          ]
        }
      ],
      "source": [
        "import numpy as np\n",
        "import warnings\n",
        "\n",
        "warnings.filterwarnings(\"ignore\", category=RuntimeWarning)\n",
        "\n",
        "def GetJacobian(f, x, h=0.01):\n",
        "    m = len(f)\n",
        "    n = x.shape[0]\n",
        "    J = np.zeros((m, n))\n",
        "  \n",
        "    for i in range(m):\n",
        "        for j in range(n):\n",
        "            rf2 = x.copy()\n",
        "            rf = x.copy()\n",
        "            rb = x.copy()\n",
        "            rb2 = x.copy()\n",
        "            \n",
        "            rf2[j] += 2 * h\n",
        "            rf[j] += h\n",
        "            rb[j] -= h\n",
        "            rb2[j] -= 2 * h\n",
        "            \n",
        "            f_rf2 = f[i](*rf2)\n",
        "            f_rf = f[i](*rf)\n",
        "            f_rb = f[i](*rb)\n",
        "            f_rb2 = f[i](*rb2)\n",
        "            \n",
        "            J[i, j] = (-f_rf2 + 8 * f_rf - 8 * f_rb + f_rb2) / (12 * h)\n",
        "      \n",
        "    return J\n",
        "\n",
        "def evalf(f,x):\n",
        "    n = len(f)\n",
        "    vector = np.array([])\n",
        "    \n",
        "    for i in range(n):\n",
        "        vector = np.append(vector,f[i](*x))\n",
        "        \n",
        "    return vector\n",
        "\n",
        "def new_x(f, x, lr):\n",
        "    J = GetJacobian(f,x)\n",
        "    G = evalf(f,x)\n",
        "    x = x - lr * np.dot(J,G)\n",
        "        \n",
        "    return x,G\n",
        "\n",
        "def descenso(f, x, lr=0.01,itmax=10000, error=1e-6):\n",
        "    it = 0\n",
        "    for _ in range(itmax):\n",
        "        x0 = x.copy()\n",
        "        it += 1\n",
        "        x0, G = new_x(f, x0, lr)\n",
        "        \n",
        "        if np.linalg.norm(0.5*np.dot(G,G.T)) < 0.05:\n",
        "            lr = 0.001\n",
        "        if np.linalg.norm(0.5*np.dot(G,G.T)) < error:\n",
        "            break\n",
        "        if np.isnan(x).all():\n",
        "            break\n",
        "        \n",
        "        x = x0\n",
        "            \n",
        "    return x, it\n",
        "\n",
        "Sistema = (\n",
        "    lambda w0, w1, w2, w3, x0, x1, x2, x3: w0 + w1 + w2 + w3 - 2,\n",
        "    lambda w0, w1, w2, w3, x0, x1, x2, x3: w0*x0 + w1*x1 + w2*x2 + w3*x3,\n",
        "    lambda w0, w1, w2, w3, x0, x1, x2, x3: w0*x0**2 + w1*x1**2 + w2*x2**2 + w3*x3**2 - 2/3,\n",
        "    lambda w0, w1, w2, w3, x0, x1, x2, x3: w0*x0**3 + w1*x1**3 + w2*x2**3 + w3*x3**3,\n",
        "    lambda w0, w1, w2, w3, x0, x1, x2, x3: w0*x0**4 + w1*x1**4 + w2*x2**4 + w3*x3**4 - 2/5,\n",
        "    lambda w0, w1, w2, w3, x0, x1, x2, x3: w0*x0**5 + w1*x1**5 + w2*x2**5 + w3*x3**5,\n",
        "    lambda w0, w1, w2, w3, x0, x1, x2, x3: w0*x0**6 + w1*x1**6 + w2*x2**6 + w3*x3**6 - 2/7,\n",
        "    lambda w0, w1, w2, w3, x0, x1, x2, x3: w0*x0**7 + w1*x1**7 + w2*x2**7 + w3*x3**7\n",
        ")\n",
        "\n",
        "integrar = True\n",
        "while integrar:\n",
        "    try:\n",
        "        r0 = np.random.uniform(-0.99, 0.99, size=8)\n",
        "        s = descenso(Sistema, r0)\n",
        "        pesos = s[0][:4]\n",
        "        raices = s[0][4:]\n",
        "\n",
        "        integral = sum(p * np.cos(x) for p, x in zip(pesos, raices))\n",
        "\n",
        "        if 1.55 <= integral < 1.75:\n",
        "            print(\"Pesos encontrados:\", pesos)\n",
        "            print(\"Raíces encontradas:\", raices)\n",
        "            print(f\"Estimación de la integral: {integral} ≈ {round(integral,2)}\")\n",
        "            integrar = False\n",
        "        else:\n",
        "            print(f\"Integral fuera de rango: {integral}. Intentando de nuevo...\")\n",
        "\n",
        "    except Exception as e:\n",
        "        print(f\"Ocurrió un error: {e}. Intentando de nuevo...\")\n"
      ]
    }
  ],
  "metadata": {
    "colab": {
      "authorship_tag": "ABX9TyPv4qPw3xBa/bHRMzLCUQzs",
      "include_colab_link": true,
      "provenance": []
    },
    "kernelspec": {
      "display_name": "Python 3",
      "name": "python3"
    },
    "language_info": {
      "codemirror_mode": {
        "name": "ipython",
        "version": 3
      },
      "file_extension": ".py",
      "mimetype": "text/x-python",
      "name": "python",
      "nbconvert_exporter": "python",
      "pygments_lexer": "ipython3",
      "version": "3.12.5"
    }
  },
  "nbformat": 4,
  "nbformat_minor": 0
}
