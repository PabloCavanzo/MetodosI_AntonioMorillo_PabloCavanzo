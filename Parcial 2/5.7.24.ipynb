{
  "cells": [
    {
      "cell_type": "markdown",
      "metadata": {
        "colab_type": "text",
        "id": "view-in-github"
      },
      "source": [
        "<a href=\"https://colab.research.google.com/github/PabloCavanzo/MetodosI_AntonioMorillo_PabloCavanzo/blob/main/Parcial%202/4.14.8.26.(E%2CF).ipynb\" target=\"_parent\"><img src=\"https://colab.research.google.com/assets/colab-badge.svg\" alt=\"Open In Colab\"/></a>"
      ]
    },
    {
      "cell_type": "code",
      "execution_count": 2,
      "metadata": {
        "colab": {
          "base_uri": "https://localhost:8080/"
        },
        "id": "bAAaE6qpwau2",
        "outputId": "82c1b903-801e-45c1-8f0e-1f5d8135ea6e"
      },
      "outputs": [
        {
          "data": {
            "image/png": "[encoded data removed]",
            "text/plain": [
              "<Figure size 640x480 with 1 Axes>"
            ]
          },
          "metadata": {},
          "output_type": "display_data"
        },
        {
          "name": "stdout",
          "output_type": "stream",
          "text": [
            "Mejores pesos encontrados: [0.202 0.161 0.141 0.126 0.112 0.1   0.088 0.07 ] con el trader #173630\n",
            "\n",
            "Inversiones en cada opción:\n",
            "Opción 1: $202,307.86\n",
            "Opción 2: $161,195.30\n",
            "Opción 3: $140,667.14\n",
            "Opción 4: $126,028.71\n",
            "Opción 5: $112,041.16\n",
            "Opción 6: $100,463.34\n",
            "Opción 7: $87,569.17\n",
            "Opción 8: $69,727.32\n",
            "\n",
            "Retornos para cada opción:\n",
            "Opción 0: $721,639.89\n",
            "Opción 1: $721,565.80\n",
            "Opción 2: $721,765.82\n",
            "Opción 3: $721,552.13\n",
            "Opción 4: $722,072.70\n",
            "Opción 5: $722,946.34\n",
            "Opción 6: $721,609.83\n",
            "Opción 7: $721,567.44\n",
            "\n",
            "Retorno Mínimo: $721,552.13\n",
            "Retorno Máximo: $5,774,719.95\n"
          ]
        }
      ],
      "source": [
        "import numpy as np\n",
        "import matplotlib.pyplot as plt\n",
        "import random as rd\n",
        "\n",
        "class Trader:\n",
        "    Unique_ids = 0\n",
        "    \n",
        "    def __init__(self, capital, shares, weights=None):\n",
        "        self.Id = Trader.Unique_ids\n",
        "        Trader.Unique_ids += 1\n",
        "        self.shares = shares\n",
        "        self.capital = capital\n",
        "        \n",
        "        if weights is None:\n",
        "            self.weights = np.random.uniform(0.,1., size=self.shares.shape[0])\n",
        "            self.weights /= np.sum(self.weights)\n",
        "        else:\n",
        "            self.weights = weights\n",
        "            \n",
        "        self.fitness = self.set_fitness()\n",
        "    \n",
        "    def set_fitness(self):\n",
        "        return np.min(self.capital * (self.weights * self.shares - 1))\n",
        "    \n",
        "    def mutation(self, mutation_rate=0.05, mutation_scale=0.01):\n",
        "        for i in range(len(self.weights)):\n",
        "            if rd.random() < mutation_rate:\n",
        "                self.weights[i] += np.random.normal(0, mutation_scale)\n",
        "                self.weights[i] = max(self.weights[i], 0.01)\n",
        "            \n",
        "        self.weights /= np.sum(self.weights)\n",
        "        self.fitness = self.set_fitness()\n",
        "    \n",
        "    def __repr__(self):\n",
        "        return f\"Trader #{self.Id} | Fitness: {self.fitness:.2f}\"\n",
        "\n",
        "def selection_pair(population):\n",
        "    selected = []\n",
        "    for _ in range(2):\n",
        "        contenders = rd.sample(population, 2)\n",
        "        contender = max(contenders, key=lambda trader: trader.fitness)\n",
        "        selected.append(contender)\n",
        "    \n",
        "    return selected\n",
        "\n",
        "def crossover(parent1, parent2):\n",
        "    p = rd.randint(1, parent1.weights.size - 1)\n",
        "    child1_weights = np.concatenate((parent1.weights[:p], parent2.weights[p:]))\n",
        "    child2_weights = np.concatenate((parent2.weights[:p], parent1.weights[p:]))\n",
        "    child1 = Trader(parent1.capital, parent1.shares, weights=child1_weights)\n",
        "    child2 = Trader(parent2.capital, parent2.shares, weights=child2_weights)\n",
        "    return child1, child2\n",
        "     \n",
        "def generate_population(size, capital, cuotas):\n",
        "    return [Trader(capital, cuotas) for _ in range(size)]\n",
        "    \n",
        "def evolve(capital, cuotas, epochs, population_size=500):\n",
        "    Traders = generate_population(population_size, capital, cuotas)\n",
        "    best_fitness_over_time = []\n",
        "    \n",
        "    for _ in range(epochs):\n",
        "        best_fitness_over_time.append(Traders[0].fitness)\n",
        "        Traders.sort(key=lambda trader: trader.fitness, reverse=True)\n",
        "        next_generation = Traders[0:2]\n",
        "        \n",
        "        while len(next_generation) < population_size:\n",
        "            parents = selection_pair(Traders)\n",
        "            child1, child2 = crossover(parents[0], parents[1])\n",
        "            child1.mutation()\n",
        "            child2.mutation()\n",
        "            next_generation += [child1, child2]\n",
        "        \n",
        "        Traders = next_generation[:population_size]\n",
        "        \n",
        "    plt.plot(range(0, epochs), best_fitness_over_time)\n",
        "    plt.xlabel('Época')\n",
        "    plt.ylabel('Mejor Aptitud')\n",
        "    plt.title('Evolución')\n",
        "    plt.show()\n",
        "    \n",
        "    return Traders[0].weights, Traders[0].Id\n",
        "\n",
        "\n",
        "cuotas =  np.array([8.51, 10.68, 12.24, 13.66, 15.37, 17.15, 19.66, 24.69])\n",
        "capital = 1000000\n",
        "weights = evolve(capital, cuotas, 500, 500)\n",
        "print(\"Mejores pesos encontrados:\", np.round(weights[0],3), \"con el trader #\" + str(weights[1]))\n",
        "\n",
        "inversiones = weights[0] * capital\n",
        "print(\"\\nInversiones en cada opción:\")\n",
        "for i, inversion in enumerate(inversiones, start=1):\n",
        "    print(f\"Opción {i}: ${inversion:,.2f}\")\n",
        "\n",
        "retornos = capital * (weights[0] * cuotas - 1)\n",
        "print(\"\\nRetornos para cada opción:\")\n",
        "for i in range(len(retornos)):\n",
        "    print(f\"Opción {i}: ${retornos[i]:,.2f}\")\n",
        "\n",
        "retorno_min = np.min(retornos)\n",
        "retorno_max = np.sum(retornos)\n",
        "print(f\"\\nRetorno Mínimo: ${retorno_min:,.2f}\")\n",
        "print(f\"Retorno Máximo: ${retorno_max:,.2f}\")"
      ]
    }
  ],
  "metadata": {
    "colab": {
      "authorship_tag": "ABX9TyPv4qPw3xBa/bHRMzLCUQzs",
      "include_colab_link": true,
      "provenance": []
    },
    "kernelspec": {
      "display_name": "Python 3",
      "name": "python3"
    },
    "language_info": {
      "codemirror_mode": {
        "name": "ipython",
        "version": 3
      },
      "file_extension": ".py",
      "mimetype": "text/x-python",
      "name": "python",
      "nbconvert_exporter": "python",
      "pygments_lexer": "ipython3",
      "version": "3.12.5"
    }
  },
  "nbformat": 4,
  "nbformat_minor": 0
}
