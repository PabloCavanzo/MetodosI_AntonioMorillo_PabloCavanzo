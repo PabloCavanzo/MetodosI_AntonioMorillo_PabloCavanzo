{
  "nbformat": 4,
  "nbformat_minor": 0,
  "metadata": {
    "colab": {
      "provenance": [],
      "authorship_tag": "ABX9TyMFn76nJNGxMw85VqJD8zlf",
      "include_colab_link": true
    },
    "kernelspec": {
      "name": "python3",
      "display_name": "Python 3"
    },
    "language_info": {
      "name": "python"
    }
  },
  "cells": [
    {
      "cell_type": "markdown",
      "metadata": {
        "id": "view-in-github",
        "colab_type": "text"
      },
      "source": [
        "<a href=\"https://colab.research.google.com/github/PabloCavanzo/MetodosI_AntonioMorillo_PabloCavanzo/blob/main/Parcial%202/4.14.8.27.(A%2CB%2CC%2CD%2CE%2CF).ipynb\" target=\"_parent\"><img src=\"https://colab.research.google.com/assets/colab-badge.svg\" alt=\"Open In Colab\"/></a>"
      ]
    },
    {
      "cell_type": "code",
      "execution_count": 4,
      "metadata": {
        "colab": {
          "base_uri": "https://localhost:8080/"
        },
        "id": "jM0aAwT_bR7A",
        "outputId": "fbffc9a4-8889-4d7b-d819-2e845ada06af"
      },
      "outputs": [
        {
          "output_type": "stream",
          "name": "stdout",
          "text": [
            "Integral fuera de rango: 1.818698214775503. Intentando de nuevo...\n",
            "Pesos encontrados: [1.48599037 0.0532284  0.47788782 0.00726785]\n",
            "Raíces encontradas: [ 0.44062875 -0.46172231 -0.91658832 -0.60356937]\n",
            "Estimación de la integral: 1.6885019661612093 ≈ 1.69\n"
          ]
        }
      ],
      "source": [
        "import numpy as np\n",
        "import warnings\n",
        "\n",
        "warnings.filterwarnings(\"ignore\", category=RuntimeWarning)\n",
        "\n",
        "def GetJacobian(f, x, h=0.001):\n",
        "    m = len(f)\n",
        "    n = x.shape[0]\n",
        "    J = np.zeros((m, n))\n",
        "\n",
        "    for i in range(m):\n",
        "        for j in range(n):\n",
        "            rf2 = x.copy()\n",
        "            rf = x.copy()\n",
        "            rb = x.copy()\n",
        "            rb2 = x.copy()\n",
        "\n",
        "            rf2[j] += 2 * h\n",
        "            rf[j] += h\n",
        "            rb[j] -= h\n",
        "            rb2[j] -= 2 * h\n",
        "\n",
        "            f_rf2 = f[i](*rf2)\n",
        "            f_rf = f[i](*rf)\n",
        "            f_rb = f[i](*rb)\n",
        "            f_rb2 = f[i](*rb2)\n",
        "\n",
        "            J[i, j] = (-f_rf2 + 8 * f_rf - 8 * f_rb + f_rb2) / (12 * h)\n",
        "\n",
        "    return J\n",
        "\n",
        "def evalf(f,x):\n",
        "    n = len(f)\n",
        "    vector = np.array([])\n",
        "\n",
        "    for i in range(n):\n",
        "        vector = np.append(vector,f[i](*x))\n",
        "\n",
        "    return vector\n",
        "\n",
        "def new_x(f, x, lr):\n",
        "    n = x.size\n",
        "    J = GetJacobian(f,x)\n",
        "    G = evalf(f,x)\n",
        "    x = x - lr * np.dot(J,G)\n",
        "\n",
        "    return x,G\n",
        "\n",
        "def descenso(f, x, lr=0.01,itmax=10000, error=1e-6):\n",
        "    it = 0\n",
        "    for i in range(itmax):\n",
        "        x0 = x.copy()\n",
        "        it += 1\n",
        "        x0, G = new_x(f, x0, lr)\n",
        "\n",
        "        if np.linalg.norm(0.5*np.dot(G.T,G))**2 < 0.05:\n",
        "            lr = 0.001\n",
        "        if np.linalg.norm(0.5*np.dot(G.T,G))**2 < error:\n",
        "            break\n",
        "        if np.isnan(x).all():\n",
        "            break\n",
        "\n",
        "        x = x0\n",
        "\n",
        "    return x, it\n",
        "\n",
        "Sistema = (\n",
        "    lambda w0, w1, w2, w3, x0, x1, x2, x3: w0 + w1 + w2 + w3 - 2,\n",
        "    lambda w0, w1, w2, w3, x0, x1, x2, x3: w0*x0 + w1*x1 + w2*x2 + w3*x3,\n",
        "    lambda w0, w1, w2, w3, x0, x1, x2, x3: w0*x0**2 + w1*x1**2 + w2*x2**2 + w3*x3**2 - 2/3,\n",
        "    lambda w0, w1, w2, w3, x0, x1, x2, x3: w0*x0**3 + w1*x1**3 + w2*x2**3 + w3*x3**3,\n",
        "    lambda w0, w1, w2, w3, x0, x1, x2, x3: w0*x0**4 + w1*x1**4 + w2*x2**4 + w3*x3**4 - 2/5,\n",
        "    lambda w0, w1, w2, w3, x0, x1, x2, x3: w0*x0**5 + w1*x1**5 + w2*x2**5 + w3*x3**5,\n",
        "    lambda w0, w1, w2, w3, x0, x1, x2, x3: w0*x0**6 + w1*x1**6 + w2*x2**6 + w3*x3**6 - 2/7,\n",
        "    lambda w0, w1, w2, w3, x0, x1, x2, x3: w0*x0**7 + w1*x1**7 + w2*x2**7 + w3*x3**7\n",
        ")\n",
        "\n",
        "integrar = True\n",
        "while integrar:\n",
        "    try:\n",
        "        r0 = np.random.uniform(-1., 1., size=8)\n",
        "        s = descenso(Sistema, r0)\n",
        "        pesos = s[0][:4]\n",
        "        raices = s[0][4:]\n",
        "\n",
        "        integral = sum(p * np.cos(x) for p, x in zip(pesos, raices))\n",
        "\n",
        "        if 1.55 <= integral < 1.75:\n",
        "            print(\"Pesos encontrados:\", pesos)\n",
        "            print(\"Raíces encontradas:\", raices)\n",
        "            print(f\"Estimación de la integral: {integral} ≈ {round(integral,2)}\")\n",
        "            integrar = False\n",
        "        else:\n",
        "            print(f\"Integral fuera de rango: {integral}. Intentando de nuevo...\")\n",
        "\n",
        "    except Exception as e:\n",
        "        print(f\"Ocurrió un error: {e}. Intentando de nuevo...\")"
      ]
    }
  ]
}