{
  "cells": [
    {
      "cell_type": "markdown",
      "metadata": {
        "id": "view-in-github",
        "colab_type": "text"
      },
      "source": [
        "<a href=\"https://colab.research.google.com/github/PabloCavanzo/MetodosI_AntonioMorillo_PabloCavanzo/blob/main/Tarea%20integraci%C3%B3n/4.14.8.5.ipynb\" target=\"_parent\"><img src=\"https://colab.research.google.com/assets/colab-badge.svg\" alt=\"Open In Colab\"/></a>"
      ]
    },
    {
      "cell_type": "code",
      "execution_count": 1,
      "metadata": {
        "id": "-5kCgWvtMslM"
      },
      "outputs": [],
      "source": [
        "import numpy as np\n",
        "from scipy import integrate\n",
        "import sympy as sym"
      ]
    },
    {
      "cell_type": "code",
      "execution_count": 3,
      "metadata": {
        "colab": {
          "base_uri": "https://localhost:8080/"
        },
        "id": "-TBBQmuFQuKc",
        "outputId": "7f71919c-08e7-433f-8ce3-15067eff9069"
      },
      "outputs": [
        {
          "output_type": "execute_result",
          "data": {
            "text/plain": [
              "0.7443683397636671"
            ]
          },
          "metadata": {},
          "execution_count": 3
        }
      ],
      "source": [
        "f = lambda x: np.exp(-x**2)\n",
        "ddf = lambda x: (4*x**2 - 2) * np.exp(-x**2)\n",
        "# E = (-(h^3)/(12*n^2))*max(|ddf|) // h = 1 // n^2 = -12*E/(ddf*h^3)\n",
        "a, b = 0, 1\n",
        "h = b - a\n",
        "error = 0.005\n",
        "d2f = np.max(np.abs(ddf(np.linspace(a,b,1000))))\n",
        "n = int(np.ceil(((d2f*(h**3))/(12*error))**(1/2)))\n",
        "x = np.linspace(a,b,n)\n",
        "def Integral_trapecio(f,x):\n",
        "  return np.sum((x[1] - x[0])*(f(x[:-1]) + f(x[1:]))/2)\n",
        "Integral_trapecio(f,x)"
      ]
    },
    {
      "cell_type": "code",
      "execution_count": 3,
      "metadata": {
        "id": "j5dYY6I1Tcmo"
      },
      "outputs": [],
      "source": []
    }
  ],
  "metadata": {
    "colab": {
      "provenance": [],
      "authorship_tag": "ABX9TyMgmhBjCrtUtanUHqW2XkWV",
      "include_colab_link": true
    },
    "kernelspec": {
      "display_name": "Python 3",
      "name": "python3"
    },
    "language_info": {
      "name": "python"
    }
  },
  "nbformat": 4,
  "nbformat_minor": 0
}