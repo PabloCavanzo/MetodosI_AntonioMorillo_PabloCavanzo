{
  "cells": [
    {
      "cell_type": "code",
      "execution_count": 4,
      "metadata": {
        "id": "JlILJfuSm3Fz"
      },
      "outputs": [
        {
          "name": "stdout",
          "output_type": "stream",
          "text": [
            "Cálculo con regla de Simpson 1/3:  0.000266666666666667\n",
            "Cálculo con Trapecio compuesto (100 puntos):  0.0003138530917658282\n",
            "Valor real:  0.0003141906875702543\n",
            "Error simpson: 15.1258527969455 %\n",
            "Error Trapecio: 0.1074493349999899 %\n"
          ]
        }
      ],
      "source": [
        "import numpy as np\n",
        "import sympy as sp\n",
        "\n",
        "def funcion(x):\n",
        "    a = 0.01\n",
        "    R = 0.5\n",
        "    return np.sqrt(a**2 - x**2)/(R+x)\n",
        "\n",
        "def Lagrange(x,X,i):\n",
        "    L = 1\n",
        "    for j in range(len(X)):\n",
        "        if i != j:\n",
        "            L *= (x-X[j])/(X[i]-X[j])\n",
        "    return L\n",
        "\n",
        "def Interpolate(x,X,Y):\n",
        "    Poly = 0\n",
        "    for i in range(len(X)):\n",
        "        Poly += Y[i]*Lagrange(x,X,i)\n",
        "    return Poly\n",
        "\n",
        "def Simpson(a,b,f):\n",
        "    x = sp.Symbol(\"x\")\n",
        "    xm = (a+b)/2\n",
        "    soporteX = np.array([a,xm,b])\n",
        "    soporteY = f(soporteX)\n",
        "    p = Interpolate(x,soporteX,soporteY)\n",
        "    p = sp.integrate(p,x)\n",
        "    \n",
        "    return p.subs(x,b).evalf()-p.subs(x,a).evalf()\n",
        "\n",
        "def Trapecio_compuesto(a,b,n,f):\n",
        "    X = np.linspace(a,b,n)\n",
        "    h = X[1]-X[0]\n",
        "    s = 0\n",
        "    for i in X[1:-1]:\n",
        "        s += h*f(i)\n",
        "    \n",
        "    return (f(a)+f(b))*h/2 + s\n",
        "\n",
        "a=0.01\n",
        "simp = Simpson(-a,a,funcion)\n",
        "tc = Trapecio_compuesto(-a,a,100,funcion)\n",
        "real = np.pi*(0.5-np.sqrt(0.5**2 - 0.01**2))\n",
        "\n",
        "print(\"Cálculo con regla de Simpson 1/3: \",simp)\n",
        "print(\"Cálculo con Trapecio compuesto (100 puntos): \",tc)\n",
        "print(\"Valor real: \", real)\n",
        "print(\"Error simpson:\", np.abs(simp-real)/real *100, \"%\")\n",
        "print(\"Error Trapecio:\", np.abs(tc-real)/real *100, \"%\")\n"
      ]
    }
  ],
  "metadata": {
    "colab": {
      "provenance": []
    },
    "kernelspec": {
      "display_name": "Python 3",
      "name": "python3"
    },
    "language_info": {
      "codemirror_mode": {
        "name": "ipython",
        "version": 3
      },
      "file_extension": ".py",
      "mimetype": "text/x-python",
      "name": "python",
      "nbconvert_exporter": "python",
      "pygments_lexer": "ipython3",
      "version": "3.12.5"
    }
  },
  "nbformat": 4,
  "nbformat_minor": 0
}
