{
  "cells": [
    {
      "cell_type": "code",
      "execution_count": null,
      "metadata": {
        "id": "JlILJfuSm3Fz"
      },
      "outputs": [],
      "source": [
        "import numpy as np\n",
        "import matplotlib.pyplot as plt\n",
        "from mpl_toolkits.mplot3d import Axes3D\n",
        "from mpl_toolkits.mplot3d.art3d import Poly3DCollection\n",
        "import math\n",
        "\n",
        "def funcion(x, y):\n",
        "    return np.sqrt(-x**2 - y**2 + 1)\n",
        "\n",
        "#a) Cree una grilla entre −R y R en el plano xy, donde el número de cuadrados \n",
        "#en cada lado de la grilla sea n. Es decir, la grilla tendría n + 1 \n",
        "#puntos en cada eje, y n^2 cuadrados pequeños.\n",
        "\n",
        "def crear_grilla(n):\n",
        "    X = np.linspace(-1, 1, n)\n",
        "    Y = np.linspace(-1, 1, n)\n",
        "    X, Y = np.meshgrid(X, Y)\n",
        "    return X, Y\n",
        "\n",
        "#b) Para cada cuadrado peque˜no calculo el promedio de la funci´on en los cuatro v´ertices\n",
        "#y multiplique por el ´area del cuadrado peque˜no. Si el punto queda fuera de la esfera\n",
        "#asuma que el valor de la funci´on f(x, y) es cero.\n",
        "\n",
        "def volumen(grilla,ax,f):\n",
        "    at=0\n",
        "    vt=0\n",
        "    \n",
        "    for i in range(len(grilla[0])-1):\n",
        "        ax.scatter(grilla[0][i],grilla[1][i])\n",
        "        for j in range(len(grilla[0][i])-1):    \n",
        "            a = (grilla[0][i][j]-grilla[0][i][j+1])**2\n",
        "            at += a\n",
        "            \n",
        "            v1 = f(grilla[0][i][j],grilla[0][i][j])\n",
        "            v2 = f(grilla[0][i][j+1],grilla[0][i][j+1])\n",
        "            v3 = f(grilla[0][i+1][j],grilla[0][i+1][j])\n",
        "            v4 = f(grilla[0][i+1][j+1],grilla[0][i+1][j+1])\n",
        "            \n",
        "            if math.isnan(v1) == False and math.isnan(v2) == False and math.isnan(v3) == False and math.isnan(v4) == False:\n",
        "                p = (v1+v2+v3+v4)/4\n",
        "            else:\n",
        "                p = 0\n",
        "            \n",
        "            v = a*p\n",
        "            vt += v\n",
        "    \n",
        "    return vt\n",
        "    \n",
        "fig = plt.figure()\n",
        "ax = fig.add_subplot(111,projection = \"3d\")\n",
        "X_plot, Y_plot = crear_grilla(20)\n",
        "Z = funcion(X_plot, Y_plot)\n",
        "\n",
        "ax.plot_surface(X_plot, Y_plot,Z)\n",
        "ax.set_xlabel(\"X\")\n",
        "ax.set_ylabel(\"Y\")\n",
        "\n",
        "print(\"El volumen aproximado es de: \", volumen(crear_grilla(50),ax,funcion))\n",
        "plt.show()"
      ]
    }
  ],
  "metadata": {
    "colab": {
      "provenance": []
    },
    "kernelspec": {
      "display_name": "Python 3",
      "name": "python3"
    },
    "language_info": {
      "name": "python"
    }
  },
  "nbformat": 4,
  "nbformat_minor": 0
}
