{
  "cells": [
    {
      "cell_type": "code",
      "execution_count": 1,
      "metadata": {
        "id": "JlILJfuSm3Fz"
      },
      "outputs": [
        {
          "name": "stdout",
          "output_type": "stream",
          "text": [
            "La integral es aproximadamente: 1.1107207345395915\n"
          ]
        }
      ],
      "source": [
        "import numpy as np\n",
        "import matplotlib.pyplot as plt\n",
        "\n",
        "roots, weights = np.polynomial.legendre.leggauss(15)\n",
        "\n",
        "def funcion(x):\n",
        "    return 1 / (1 + x**4)\n",
        "def funcion2(x):\n",
        "    return (x**2) / (1 + x**4)\n",
        "\n",
        "t = 0.5 * (roots + 1)\n",
        "weights *= 0.5\n",
        "\n",
        "integral1 = np.sum(weights * funcion(t))\n",
        "integral2 = np.sum(weights * funcion2(t))\n",
        "\n",
        "print(\"La integral es aproximadamente:\",integral1 + integral2)"
      ]
    }
  ],
  "metadata": {
    "colab": {
      "provenance": []
    },
    "kernelspec": {
      "display_name": "Python 3",
      "name": "python3"
    },
    "language_info": {
      "codemirror_mode": {
        "name": "ipython",
        "version": 3
      },
      "file_extension": ".py",
      "mimetype": "text/x-python",
      "name": "python",
      "nbconvert_exporter": "python",
      "pygments_lexer": "ipython3",
      "version": "3.12.5"
    }
  },
  "nbformat": 4,
  "nbformat_minor": 0
}
