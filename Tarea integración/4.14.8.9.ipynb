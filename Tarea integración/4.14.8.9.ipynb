{
  "cells": [
    {
      "cell_type": "code",
      "execution_count": 2,
      "metadata": {
        "id": "JlILJfuSm3Fz"
      },
      "outputs": [
        {
          "name": "stdout",
          "output_type": "stream",
          "text": [
            "Función cardinal #1:\n",
            "(-b + x)*(-2*a - b + 3*x)*(-a - 2*b + 3*x)/(2*(a - b)**3)\n",
            "Función cardinal #2:\n",
            "-9*(-a + x)*(-b + x)*(-a - 2*b + 3*x)/(2*(a - b)**3)\n",
            "Función cardinal #3:\n",
            "9*(-a + x)*(-b + x)*(-2*a - b + 3*x)/(2*(a - b)**3)\n",
            "Función cardinal #4:\n",
            "-(-a + x)*(-2*a - b + 3*x)*(-a - 2*b + 3*x)/(2*(a - b)**3)\n",
            "\n",
            "Regla de Simpson 3/8:  -(a - b)*(f(a) + f(b) + 3*f(a/3 + 2*b/3) + 3*f(2*a/3 + b/3))/8\n",
            "\n",
            "Primer punto: a\n",
            "Segundo punto: (2*a + b)/3\n",
            "Tercer punto: (a + 2*b)/3\n",
            "Cuarto punto: b\n"
          ]
        }
      ],
      "source": [
        "import sympy as sp\n",
        "import numpy as np\n",
        "import matplotlib.pyplot as plt\n",
        "\n",
        "def Lagrange(X,i):\n",
        "    x = sp.Symbol(\"x\")\n",
        "    L = 1\n",
        "    for j in range(len(X)):\n",
        "        if j != i:\n",
        "            L *= (x-X[j])/(X[i]-X[j])\n",
        "    return L \n",
        "\n",
        "def polinomio(X,Y):\n",
        "    pol = 0\n",
        "    for i in range(0,len(X)):\n",
        "        pol += Y[i]*Lagrange(X,i)\n",
        "    return pol\n",
        "\n",
        "# a) Encontrar las funciones cardinales de dicha interpolación e integrar\n",
        "\n",
        "def integral_a_b():\n",
        "    a = sp.Symbol(\"a\")\n",
        "    b = sp.Symbol(\"b\")\n",
        "    f = sp.Function(\"f\")\n",
        "    h = (b-a)/3\n",
        "    \n",
        "    X = [a,a+h,a+2*h,a+3*h]\n",
        "    Y = [f(a),f(a+h),f(a+2*h),f(a+3*h)]\n",
        "    \n",
        "    for i in range(len(X)):\n",
        "        print(\"Función cardinal #\" + str(i+1) + \":\")\n",
        "        print(sp.factor(Lagrange(X,i)))\n",
        "    \n",
        "    p = polinomio(X,Y)\n",
        "    p = sp.integrate(p,sp.Symbol(\"x\"))\n",
        "    int = p.subs(sp.Symbol(\"x\"),b) - p.subs(sp.Symbol(\"x\"),a) \n",
        "    print(\"\")\n",
        "    print(\"Regla de Simpson 3/8: \", sp.factor(int))\n",
        "    print(\"\")\n",
        "    \n",
        "integral_a_b()\n",
        "\n",
        "# b) Dado que h = (b − a)/3, muestre que los puntos intermedios son (2a+b)/3 y (a+2b)/3 respectivamente\n",
        "\n",
        "def puntos_intermedios():\n",
        "    a = sp.Symbol(\"a\")\n",
        "    b = sp.Symbol(\"b\")\n",
        "    f = sp.Function(\"f\")\n",
        "    h = (b-a)/3\n",
        "    \n",
        "    p1 = sp.factor(a+h)\n",
        "    p2 = sp.factor(a+2*h)\n",
        "    print(\"Primer punto:\", a)\n",
        "    print(\"Segundo punto:\", p1)\n",
        "    print(\"Tercer punto:\", p2)\n",
        "    print(\"Cuarto punto:\", b)\n",
        "\n",
        "puntos_intermedios()"
      ]
    }
  ],
  "metadata": {
    "colab": {
      "provenance": []
    },
    "kernelspec": {
      "display_name": "Python 3",
      "name": "python3"
    },
    "language_info": {
      "codemirror_mode": {
        "name": "ipython",
        "version": 3
      },
      "file_extension": ".py",
      "mimetype": "text/x-python",
      "name": "python",
      "nbconvert_exporter": "python",
      "pygments_lexer": "ipython3",
      "version": "3.12.5"
    }
  },
  "nbformat": 4,
  "nbformat_minor": 0
}
