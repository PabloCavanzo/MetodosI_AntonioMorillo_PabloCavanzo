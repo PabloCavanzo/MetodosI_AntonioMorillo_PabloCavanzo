{
  "cells": [
    {
      "cell_type": "code",
      "execution_count": null,
      "metadata": {
        "id": "JlILJfuSm3Fz"
      },
      "outputs": [],
      "source": [
        "import sympy as sp\n",
        "import numpy as np\n",
        "import matplotlib.pyplot as plt\n",
        "\n",
        "def Lagrange(X,i):\n",
        "    x = sp.Symbol(\"x\")\n",
        "    L = 1\n",
        "    for j in range(len(X)):\n",
        "        if j != i:\n",
        "            L *= (x-X[j])/(X[i]-X[j])\n",
        "    return L \n",
        "\n",
        "def polinomio(X,Y):\n",
        "    pol = 0\n",
        "    for i in range(0,len(X)):\n",
        "        pol += Y[i]*Lagrange(X,i)\n",
        "    return pol\n",
        "\n",
        "# a) Encontrar las funciones cardinales de dicha interpolación e integrar\n",
        "\n",
        "def integral_a_b():\n",
        "    a = sp.Symbol(\"a\")\n",
        "    b = sp.Symbol(\"b\")\n",
        "    f = sp.Function(\"f\")\n",
        "    h = (b-a)/3\n",
        "    \n",
        "    X = [a,a+h,a+2*h,a+3*h]\n",
        "    Y = [f(a),f(a+h),f(a+2*h),f(a+3*h)]\n",
        "    \n",
        "    for i in range(len(X)):\n",
        "        print(\"Función cardinal #\" + str(i+1) + \":\")\n",
        "        print(sp.factor(Lagrange(X,i)))\n",
        "    \n",
        "    p = polinomio(X,Y)\n",
        "    p = sp.integrate(p,sp.Symbol(\"x\"))\n",
        "    int = p.subs(sp.Symbol(\"x\"),b) - p.subs(sp.Symbol(\"x\"),a) \n",
        "    print(\"\")\n",
        "    print(\"Regla de Simpson 3/8: \", sp.factor(int))\n",
        "    print(\"\")\n",
        "    \n",
        "integral_a_b()\n",
        "\n",
        "# b) Dado que h = (b − a)/3, muestre que los puntos intermedios son (2a+b)/3 y (a+2b)/3 respectivamente\n",
        "\n",
        "def puntos_intermedios():\n",
        "    a = sp.Symbol(\"a\")\n",
        "    b = sp.Symbol(\"b\")\n",
        "    f = sp.Function(\"f\")\n",
        "    h = (b-a)/3\n",
        "    \n",
        "    p1 = sp.factor(a+h)\n",
        "    p2 = sp.factor(a+2*h)\n",
        "    print(\"Primer punto:\", a)\n",
        "    print(\"Segundo punto:\", p1)\n",
        "    print(\"Tercer punto:\", p2)\n",
        "    print(\"Cuarto punto:\", b)\n",
        "\n",
        "puntos_intermedios()"
      ]
    }
  ],
  "metadata": {
    "colab": {
      "provenance": []
    },
    "kernelspec": {
      "display_name": "Python 3",
      "name": "python3"
    },
    "language_info": {
      "name": "python"
    }
  },
  "nbformat": 4,
  "nbformat_minor": 0
}
