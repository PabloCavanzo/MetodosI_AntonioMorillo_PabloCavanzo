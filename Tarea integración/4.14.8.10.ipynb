{
  "nbformat": 4,
  "nbformat_minor": 0,
  "metadata": {
    "colab": {
      "provenance": [],
      "authorship_tag": "ABX9TyNlFYxkMWXJ74AFaA5j58vg",
      "include_colab_link": true
    },
    "kernelspec": {
      "name": "python3",
      "display_name": "Python 3"
    },
    "language_info": {
      "name": "python"
    }
  },
  "cells": [
    {
      "cell_type": "markdown",
      "metadata": {
        "id": "view-in-github",
        "colab_type": "text"
      },
      "source": [
        "<a href=\"https://colab.research.google.com/github/PabloCavanzo/MetodosI_AntonioMorillo_PabloCavanzo/blob/main/Tarea%20integraci%C3%B3n/4.14.8.10.ipynb\" target=\"_parent\"><img src=\"https://colab.research.google.com/assets/colab-badge.svg\" alt=\"Open In Colab\"/></a>"
      ]
    },
    {
      "cell_type": "code",
      "execution_count": 11,
      "metadata": {
        "id": "ceD01lYdPh1F"
      },
      "outputs": [],
      "source": [
        "import sympy as spy"
      ]
    },
    {
      "cell_type": "code",
      "source": [
        "x, h, xi = spy.symbols('x', positive=True), spy.symbols('h', positive=True), spy.symbols('ξ', positive=True)\n",
        "f4 = spy.Function('f4')(xi)\n",
        "I = spy.integrate(x * (x - h) * (x - 2*h) * (x - 3*h), (x, 0, 3*h))\n",
        "(f4*I)/(spy.factorial(4))"
      ],
      "metadata": {
        "colab": {
          "base_uri": "https://localhost:8080/",
          "height": 54
        },
        "id": "9CEczPqbQzFt",
        "outputId": "cd766cad-6f77-4b3e-9c11-885e15cbfcaf"
      },
      "execution_count": 10,
      "outputs": [
        {
          "output_type": "execute_result",
          "data": {
            "text/plain": [
              "-3*h**5*f4(ξ)/80"
            ],
            "text/latex": "$\\displaystyle - \\frac{3 h^{5} f_{4}{\\left(ξ \\right)}}{80}$"
          },
          "metadata": {},
          "execution_count": 10
        }
      ]
    }
  ]
}