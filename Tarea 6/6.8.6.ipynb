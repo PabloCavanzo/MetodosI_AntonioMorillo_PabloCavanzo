{
  "nbformat": 4,
  "nbformat_minor": 0,
  "metadata": {
    "colab": {
      "provenance": [],
      "authorship_tag": "ABX9TyO52L7OOqEB4IDUBNaFJCEu",
      "include_colab_link": true
    },
    "kernelspec": {
      "name": "python3",
      "display_name": "Python 3"
    },
    "language_info": {
      "name": "python"
    }
  },
  "cells": [
    {
      "cell_type": "markdown",
      "metadata": {
        "id": "view-in-github",
        "colab_type": "text"
      },
      "source": [
        "<a href=\"https://colab.research.google.com/github/PabloCavanzo/MetodosI_AntonioMorillo_PabloCavanzo/blob/main/Tarea%206/6.8.6.ipynb\" target=\"_parent\"><img src=\"https://colab.research.google.com/assets/colab-badge.svg\" alt=\"Open In Colab\"/></a>"
      ]
    },
    {
      "cell_type": "code",
      "execution_count": 2,
      "metadata": {
        "id": "oEW_e5o9zl0I"
      },
      "outputs": [],
      "source": [
        "import numpy as np"
      ]
    },
    {
      "cell_type": "code",
      "source": [
        "def prob_sim_1par(events, dice=3, caras=6):\n",
        "  dados = np.random.randint(1,caras+1, size=(events,dice))\n",
        "  Ω = events\n",
        "  A = 0\n",
        "  for i in dados:\n",
        "    _, conteos = np.unique(i, return_counts=True)\n",
        "    if np.sum(conteos == 2) == 1 and len(conteos) == (dice - 1):\n",
        "      A += 1\n",
        "  return Ω, A"
      ],
      "metadata": {
        "id": "teRRxk2fzrSt"
      },
      "execution_count": 1,
      "outputs": []
    },
    {
      "cell_type": "code",
      "source": [
        "Ω, A = prob_sim_1par(10**5)\n",
        "PA = A/Ω\n",
        "print('La probabilidad P(A) de obtener 1 par es: P(A) = {} \\n(obtenida experimentralmente)'.format(str(PA)))"
      ],
      "metadata": {
        "colab": {
          "base_uri": "https://localhost:8080/"
        },
        "id": "NadtxE1Q1mDp",
        "outputId": "39411dc8-aebf-4605-e3cc-eb3589ea8893"
      },
      "execution_count": 5,
      "outputs": [
        {
          "output_type": "stream",
          "name": "stdout",
          "text": [
            "La probabilidad P(A) de obtener 1 par es: P(A) = 0.41456 \n",
            "(obtenida experimentralmente)\n"
          ]
        }
      ]
    },
    {
      "cell_type": "code",
      "source": [
        "np.isclose(PA,5/12,rtol=1e-2)"
      ],
      "metadata": {
        "colab": {
          "base_uri": "https://localhost:8080/"
        },
        "id": "92JbbMny6yEG",
        "outputId": "0725a2da-a904-4ad0-f4a6-748488faa9d2"
      },
      "execution_count": 7,
      "outputs": [
        {
          "output_type": "execute_result",
          "data": {
            "text/plain": [
              "True"
            ]
          },
          "metadata": {},
          "execution_count": 7
        }
      ]
    }
  ]
}