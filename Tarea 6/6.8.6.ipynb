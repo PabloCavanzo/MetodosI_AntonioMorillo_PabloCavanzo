{
  "nbformat": 4,
  "nbformat_minor": 0,
  "metadata": {
    "colab": {
      "provenance": [],
      "authorship_tag": "ABX9TyOd1gxQOUDJ2eehCepqlgX+",
      "include_colab_link": true
    },
    "kernelspec": {
      "name": "python3",
      "display_name": "Python 3"
    },
    "language_info": {
      "name": "python"
    }
  },
  "cells": [
    {
      "cell_type": "markdown",
      "metadata": {
        "id": "view-in-github",
        "colab_type": "text"
      },
      "source": [
        "<a href=\"https://colab.research.google.com/github/PabloCavanzo/MetodosI_AntonioMorillo_PabloCavanzo/blob/main/Tarea%206/6.8.6.ipynb\" target=\"_parent\"><img src=\"https://colab.research.google.com/assets/colab-badge.svg\" alt=\"Open In Colab\"/></a>"
      ]
    },
    {
      "cell_type": "code",
      "execution_count": 1,
      "metadata": {
        "id": "oEW_e5o9zl0I"
      },
      "outputs": [],
      "source": [
        "import numpy as np"
      ]
    },
    {
      "cell_type": "code",
      "source": [
        "def prob_sim_1par(dice, caras,events):\n",
        "  Ω = np.array([])\n",
        "  A = np.array([])\n",
        "  for i in range(events):\n",
        "    dados = np.array([])\n",
        "    for n in range(dice):\n",
        "      dados = np.append(dados, np.random.randint(1,caras+1))\n",
        "    Ω = np.append(Ω,dados)\n",
        "    if len(np.unique(dados)) == 2:\n",
        "      A = np.append(A,tuple(dados))\n",
        "  return Ω, A"
      ],
      "metadata": {
        "id": "teRRxk2fzrSt"
      },
      "execution_count": 49,
      "outputs": []
    },
    {
      "cell_type": "code",
      "source": [
        "Ω, A = prob_sim_1par(3,6,(10**5))\n",
        "PA = len(A)/len(Ω)\n",
        "print('La probabilidad P(A) de obtener 1 par es: P(A) = {} \\n(obtenida experimentralmente)'.format(str(PA)))"
      ],
      "metadata": {
        "colab": {
          "base_uri": "https://localhost:8080/"
        },
        "id": "NadtxE1Q1mDp",
        "outputId": "bfa05978-1cce-4981-c617-647c97afa5f6"
      },
      "execution_count": 56,
      "outputs": [
        {
          "output_type": "stream",
          "name": "stdout",
          "text": [
            "La probabilidad P(A) de obtener 1 par es: P(A) = 0.41566 \n",
            "(obtenida experimentralmente)\n"
          ]
        }
      ]
    },
    {
      "cell_type": "code",
      "source": [
        "np.isclose(PA,(5/12))"
      ],
      "metadata": {
        "colab": {
          "base_uri": "https://localhost:8080/"
        },
        "id": "92JbbMny6yEG",
        "outputId": "7c4472dd-b8e0-4fd4-860d-a1dfa7e4e3dc"
      },
      "execution_count": 55,
      "outputs": [
        {
          "output_type": "execute_result",
          "data": {
            "text/plain": [
              "True"
            ]
          },
          "metadata": {},
          "execution_count": 55
        }
      ]
    }
  ]
}