{
  "nbformat": 4,
  "nbformat_minor": 0,
  "metadata": {
    "colab": {
      "provenance": [],
      "authorship_tag": "ABX9TyOZLJnWBmHv6jy/Xe4Zq7Sl",
      "include_colab_link": true
    },
    "kernelspec": {
      "name": "python3",
      "display_name": "Python 3"
    },
    "language_info": {
      "name": "python"
    }
  },
  "cells": [
    {
      "cell_type": "markdown",
      "metadata": {
        "id": "view-in-github",
        "colab_type": "text"
      },
      "source": [
        "<a href=\"https://colab.research.google.com/github/PabloCavanzo/MetodosI_AntonioMorillo_PabloCavanzo/blob/main/Tarea%206/6.5.4.ipynb\" target=\"_parent\"><img src=\"https://colab.research.google.com/assets/colab-badge.svg\" alt=\"Open In Colab\"/></a>"
      ]
    },
    {
      "cell_type": "code",
      "execution_count": 16,
      "metadata": {
        "id": "VctCZLi38Fwl"
      },
      "outputs": [],
      "source": [
        "import numpy as np\n",
        "import matplotlib.pyplot as plt"
      ]
    },
    {
      "cell_type": "code",
      "source": [
        "# a) Escribir la densidad de probabilidad de detección a priori\n",
        "# Frecuencia total: Fe + Fp + Fα = 2Fp + Fp + Fp = 4Fp\n",
        "# ↳ Π(D/electrón) = (Fe)/(4Fp) = (2Fp)/(4Fp) = 1/2 = 0.5\n",
        "# ↳ Π(D/protón) = (Fp)/(4Fp) = 1/4 = 0.25\n",
        "# ↳ Π(D/partículas-α) = (Fα)/(4Fp) = (Fp)/(4Fp) = 1/4 = 0.25\n",
        "Prior = np.array([0.5, 0.25, 0.25])\n",
        "print('Π(D/p) = {}'.format(Prior))"
      ],
      "metadata": {
        "colab": {
          "base_uri": "https://localhost:8080/"
        },
        "id": "XoGUgbOR8L8f",
        "outputId": "9fcbc81b-e3c9-42b4-8e2c-db53bf751c7f"
      },
      "execution_count": 17,
      "outputs": [
        {
          "output_type": "stream",
          "name": "stdout",
          "text": [
            "Π(D/p) = [0.5  0.25 0.25]\n"
          ]
        }
      ]
    },
    {
      "cell_type": "code",
      "source": [
        "# b) Usar la regla de probabilidad total para determinar la probabilidad de que una partícula alazar sea detectada\n",
        "efi = np.array([0.9,0.6,0.2])\n",
        "PD = np.sum(Prior*efi)\n",
        "print('P(D) = {}'.format(PD))"
      ],
      "metadata": {
        "colab": {
          "base_uri": "https://localhost:8080/"
        },
        "id": "GJP8f5M59Apg",
        "outputId": "5327476f-d1e1-4d7b-948a-b119d3bb133e"
      },
      "execution_count": 18,
      "outputs": [
        {
          "output_type": "stream",
          "name": "stdout",
          "text": [
            "P(D) = 0.65\n"
          ]
        }
      ]
    },
    {
      "cell_type": "code",
      "source": [
        "Posterior = efi*PD/np.sum(efi*PD)\n",
        "print('Posterior = {}'.format(Posterior))\n",
        "plt.stem(Posterior)"
      ],
      "metadata": {
        "colab": {
          "base_uri": "https://localhost:8080/",
          "height": 465
        },
        "id": "s7A7pHUbHQTh",
        "outputId": "064386b6-787f-4d9c-a5e0-f4a192a5c140"
      },
      "execution_count": 19,
      "outputs": [
        {
          "output_type": "stream",
          "name": "stdout",
          "text": [
            "Posterior = [0.52941176 0.35294118 0.11764706]\n"
          ]
        },
        {
          "output_type": "execute_result",
          "data": {
            "text/plain": [
              "<StemContainer object of 3 artists>"
            ]
          },
          "metadata": {},
          "execution_count": 19
        },
        {
          "output_type": "display_data",
          "data": {
            "text/plain": [
              "<Figure size 640x480 with 1 Axes>"
            ],
            "image/png": "[encoded data removed]"
          },
          "metadata": {}
        }
      ]
    },
    {
      "cell_type": "code",
      "source": [
        "# d)\n",
        "p = efi*Prior\n",
        "prob = p/np.sum(p)\n",
        "L = ['e', 'p', 'α']\n",
        "for i in range(len(prob)):\n",
        "    print('P(D/{}) = {}'.format(L[i],prob[i].round(4)))"
      ],
      "metadata": {
        "colab": {
          "base_uri": "https://localhost:8080/"
        },
        "id": "ZWGs9aM4UvmC",
        "outputId": "3013b3c4-bc7c-4865-cef2-0a85a5012c1c"
      },
      "execution_count": 28,
      "outputs": [
        {
          "output_type": "stream",
          "name": "stdout",
          "text": [
            "P(D/e) = 0.6923\n",
            "P(D/p) = 0.2308\n",
            "P(D/α) = 0.0769\n"
          ]
        }
      ]
    }
  ]
}