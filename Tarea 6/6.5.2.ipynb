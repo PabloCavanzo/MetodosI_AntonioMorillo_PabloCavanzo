{
  "nbformat": 4,
  "nbformat_minor": 0,
  "metadata": {
    "colab": {
      "provenance": [],
      "authorship_tag": "ABX9TyNolhP9WYcYz2lebnfipn74",
      "include_colab_link": true
    },
    "kernelspec": {
      "name": "python3",
      "display_name": "Python 3"
    },
    "language_info": {
      "name": "python"
    }
  },
  "cells": [
    {
      "cell_type": "markdown",
      "metadata": {
        "id": "view-in-github",
        "colab_type": "text"
      },
      "source": [
        "<a href=\"https://colab.research.google.com/github/PabloCavanzo/MetodosI_AntonioMorillo_PabloCavanzo/blob/main/Tarea%206/6.5.2.ipynb\" target=\"_parent\"><img src=\"https://colab.research.google.com/assets/colab-badge.svg\" alt=\"Open In Colab\"/></a>"
      ]
    },
    {
      "cell_type": "code",
      "execution_count": 60,
      "metadata": {
        "id": "l1ekW-6pKnh_"
      },
      "outputs": [],
      "source": [
        "import numpy as np"
      ]
    },
    {
      "cell_type": "code",
      "source": [
        "Lambdas = np.array([1, 2, 3, 4])\n",
        "Prior = np.array([0.4, 0.3, 0.2, 0.1])"
      ],
      "metadata": {
        "id": "oiCtILh6UHrd"
      },
      "execution_count": 54,
      "outputs": []
    },
    {
      "cell_type": "code",
      "source": [
        "# a) Estimación del parámetro λˆ.\n",
        "λˆ = np.sum(Lambdas * Prior)\n",
        "print('λˆ = {}'.format(str(λˆ)))"
      ],
      "metadata": {
        "colab": {
          "base_uri": "https://localhost:8080/"
        },
        "id": "xvZ2pdwlUl0g",
        "outputId": "dffbab65-f17b-46b7-ecc9-590c0f79cc88"
      },
      "execution_count": 55,
      "outputs": [
        {
          "output_type": "stream",
          "name": "stdout",
          "text": [
            "λˆ = 2.0\n"
          ]
        }
      ]
    },
    {
      "cell_type": "code",
      "source": [
        "# b) Cálculo de la función de verosimilitud de la observación para cada modelo\n",
        "Poisson = lambda l,x: l**x*np.exp(-l)/math.factorial(x)\n",
        "def Likelihood(x=4,l=Lambdas):\n",
        "  return Poisson(l,x)\n",
        "\n",
        "SUB = str.maketrans(\"0123456789\", \"₀₁₂₃₄₅₆₇₈₉\")\n",
        "for i in range(len(Likelihood())):\n",
        "  print('L(x/λ{})'.format(i+1).translate(SUB) +  ' = {}'.format(Likelihood()[i]))"
      ],
      "metadata": {
        "colab": {
          "base_uri": "https://localhost:8080/"
        },
        "id": "mAH7t0LEUwgH",
        "outputId": "2103b488-5c72-4b11-9b12-e4175459d32a"
      },
      "execution_count": 56,
      "outputs": [
        {
          "output_type": "stream",
          "name": "stdout",
          "text": [
            "L(x/λ₁) = 0.015328310048810098\n",
            "L(x/λ₂) = 0.0902235221577418\n",
            "L(x/λ₃) = 0.16803135574154082\n",
            "L(x/λ₄) = 0.19536681481316456\n"
          ]
        }
      ]
    },
    {
      "cell_type": "code",
      "source": [
        "# c) Cálculo de la funci´on de distribuci´on a posteriori para cada modelo\n",
        "probx = np.sum(Prior * Likelihood())\n",
        "Posteriori = (Prior * Likelihood())/probx\n",
        "\n",
        "for i in range(len(Posteriori)):\n",
        "  print('P(λ{})'.format(i+1).translate(SUB) +  ' = {}'.format(Posteriori[i]))"
      ],
      "metadata": {
        "colab": {
          "base_uri": "https://localhost:8080/"
        },
        "id": "wBQ7J5obYpvn",
        "outputId": "c9f24633-afa0-4916-fafd-45c64bc1ffcf"
      },
      "execution_count": 57,
      "outputs": [
        {
          "output_type": "stream",
          "name": "stdout",
          "text": [
            "P(λ₁) = 0.07101261684795675\n",
            "P(λ₂) = 0.31348898162577693\n",
            "P(λ₃) = 0.38922576088689687\n",
            "P(λ₄) = 0.22627264063936953\n"
          ]
        }
      ]
    },
    {
      "cell_type": "code",
      "source": [
        "# d) Verificar que la distribución posterior esté normalizada\n",
        "print('Suma de las probabilidades a posteriori = {}'.format(np.sum(Posteriori)))\n",
        "\n",
        "is_Normalized = np.sum(Posteriori) == 1\n",
        "if is_Normalized:\n",
        "  print('La distribución posterior está normalizada')\n",
        "else:\n",
        "  print('La distribución posterior no está normalizada')"
      ],
      "metadata": {
        "colab": {
          "base_uri": "https://localhost:8080/"
        },
        "id": "7erlAb5oeOUt",
        "outputId": "6c32a7eb-6d1d-4416-aa6b-f93f5cf80b3b"
      },
      "execution_count": 58,
      "outputs": [
        {
          "output_type": "stream",
          "name": "stdout",
          "text": [
            "Suma de las probabilidades a posteriori = 1.0\n",
            "La distribución posterior está normalizada\n"
          ]
        }
      ]
    },
    {
      "cell_type": "markdown",
      "source": [
        "e)\n",
        "Para determinar cual es el modelo que mejor explica los datos, se puede buscar el valor de $λ_i$ que maximiza la probabilidad a posteriori. Si nos limitamos a valores discretos de $λ$, los resultados obtenidos en el punto c nos indican que el modelo que más probablemente explique los datos es $λ_3 = 3$.\n",
        "\n",
        "En el siguiente punto se va a encontrar el mejor parámetro $λ^ˆ$ para valores de $λ^ˆ$ continuos."
      ],
      "metadata": {
        "id": "H9PbvjxwpUTm"
      }
    },
    {
      "cell_type": "code",
      "source": [
        "# f) Cálculo del mejor parámetro λˆ.\n",
        "λˆ = np.sum(Lambdas * Posteriori)\n",
        "print('Mejor parámetro λˆ = {}'.format(str(λˆ.round(2))))"
      ],
      "metadata": {
        "colab": {
          "base_uri": "https://localhost:8080/"
        },
        "id": "cufDXpxKemO5",
        "outputId": "07a62ae2-2b47-4b00-8435-e16390c48187"
      },
      "execution_count": 59,
      "outputs": [
        {
          "output_type": "stream",
          "name": "stdout",
          "text": [
            "Mejor parámetro λˆ = 2.77\n"
          ]
        }
      ]
    }
  ]
}