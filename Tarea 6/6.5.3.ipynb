{
  "nbformat": 4,
  "nbformat_minor": 0,
  "metadata": {
    "colab": {
      "provenance": [],
      "authorship_tag": "ABX9TyPzRWcBibiTjn6nJTPSTR5w",
      "include_colab_link": true
    },
    "kernelspec": {
      "name": "python3",
      "display_name": "Python 3"
    },
    "language_info": {
      "name": "python"
    }
  },
  "cells": [
    {
      "cell_type": "markdown",
      "metadata": {
        "id": "view-in-github",
        "colab_type": "text"
      },
      "source": [
        "<a href=\"https://colab.research.google.com/github/PabloCavanzo/MetodosI_AntonioMorillo_PabloCavanzo/blob/main/Tarea%206/6.5.3.ipynb\" target=\"_parent\"><img src=\"https://colab.research.google.com/assets/colab-badge.svg\" alt=\"Open In Colab\"/></a>"
      ]
    },
    {
      "cell_type": "code",
      "execution_count": 60,
      "metadata": {
        "id": "l1ekW-6pKnh_"
      },
      "outputs": [],
      "source": [
        "import numpy as np"
      ]
    },
    {
      "cell_type": "code",
      "source": [
        "Lambdas = np.array([1, 2, 3, 4])\n",
        "Prior = np.array([0.4, 0.3, 0.2, 0.1])"
      ],
      "metadata": {
        "id": "oiCtILh6UHrd"
      },
      "execution_count": 54,
      "outputs": []
    },
    {
      "cell_type": "code",
      "source": [
        "# a) Estimación del parámetro λˆ.\n",
        "λˆ = np.sum(Lambdas * Prior)\n",
        "print('λˆ = {}'.format(str(λˆ)))"
      ],
      "metadata": {
        "colab": {
          "base_uri": "https://localhost:8080/"
        },
        "id": "xvZ2pdwlUl0g",
        "outputId": "dffbab65-f17b-46b7-ecc9-590c0f79cc88"
      },
      "execution_count": 55,
      "outputs": [
        {
          "output_type": "stream",
          "name": "stdout",
          "text": [
            "λˆ = 2.0\n"
          ]
        }
      ]
    },
    {
      "cell_type": "code",
      "source": [
        "# b) Cálculo de la función de verosimilitud de la observación para cada modelo\n",
        "Poisson = lambda l,x: l**x*np.exp(-l)/math.factorial(x)\n",
        "def Likelihood(x,l=Lambdas):\n",
        "  return Poisson(l,x)\n",
        "\n",
        "def JointLikelihood(x1=4, x2=5):\n",
        "  return Likelihood(x1) * Likelihood(x2)\n",
        "\n",
        "SUB = str.maketrans(\"0123456789\", \"₀₁₂₃₄₅₆₇₈₉\")\n",
        "for i in range(len(JointLikelihood())):\n",
        "  print('L(x/λ{})'.format(i+1).translate(SUB) +  ' = {}'.format(JointLikelihood()[i]))"
      ],
      "metadata": {
        "colab": {
          "base_uri": "https://localhost:8080/"
        },
        "id": "mAH7t0LEUwgH",
        "outputId": "60e566eb-fa9f-4481-a88f-8f1946aa86aa"
      },
      "execution_count": 65,
      "outputs": [
        {
          "output_type": "stream",
          "name": "stdout",
          "text": [
            "L(x/λ₁) = 4.699141779049052e-05\n",
            "L(x/λ₂) = 0.003256113580219411\n",
            "L(x/λ₃) = 0.016940721907404144\n",
            "L(x/λ₄) = 0.030534553864193067\n"
          ]
        }
      ]
    },
    {
      "cell_type": "code",
      "source": [
        "# c) Cálculo de la funci´on de distribuci´on a posteriori para cada modelo\n",
        "probx = np.sum(Prior * JointLikelihood())\n",
        "Posteriori = (Prior * JointLikelihood())/probx\n",
        "\n",
        "for i in range(len(Posteriori)):\n",
        "  print('P(λ{})'.format(i+1).translate(SUB) +  ' = {}'.format(Posteriori[i]))"
      ],
      "metadata": {
        "colab": {
          "base_uri": "https://localhost:8080/"
        },
        "id": "wBQ7J5obYpvn",
        "outputId": "133f94ba-13c2-4826-8bb2-39d0a0a053ec"
      },
      "execution_count": 62,
      "outputs": [
        {
          "output_type": "stream",
          "name": "stdout",
          "text": [
            "P(λ₁) = 0.002527361138797357\n",
            "P(λ₂) = 0.13134379605517377\n",
            "P(λ₃) = 0.455565337513722\n",
            "P(λ₄) = 0.41056350529230684\n"
          ]
        }
      ]
    },
    {
      "cell_type": "code",
      "source": [
        "# d) Verificar que la distribución posterior esté normalizada\n",
        "print('Suma de las probabilidades a posteriori = {}'.format(np.sum(Posteriori)))\n",
        "\n",
        "is_Normalized = np.sum(Posteriori) == 1\n",
        "if is_Normalized:\n",
        "  print('La distribución posterior está normalizada')\n",
        "else:\n",
        "  print('La distribución posterior no está normalizada')"
      ],
      "metadata": {
        "colab": {
          "base_uri": "https://localhost:8080/"
        },
        "id": "7erlAb5oeOUt",
        "outputId": "9a16fa64-0dd3-421b-e4a8-eb42c64fe79c"
      },
      "execution_count": 63,
      "outputs": [
        {
          "output_type": "stream",
          "name": "stdout",
          "text": [
            "Suma de las probabilidades a posteriori = 1.0\n",
            "La distribución posterior está normalizada\n"
          ]
        }
      ]
    },
    {
      "cell_type": "markdown",
      "source": [
        "e)\n",
        "Para determinar cual es el modelo que mejor explica los datos, se puede buscar el valor de $λ_i$ que maximiza la probabilidad a posteriori. Si nos limitamos a valores discretos de $λ$, los resultados obtenidos en el punto c nos indican que el modelo que más probablemente explique los datos es $λ_3 = 3$. (Igual que en el numeral anterior)\n",
        "\n",
        "En el siguiente punto se va a encontrar el mejor parámetro $λ^ˆ$ para valores de $λ^ˆ$ continuos."
      ],
      "metadata": {
        "id": "H9PbvjxwpUTm"
      }
    },
    {
      "cell_type": "code",
      "source": [
        "# f) Cálculo del mejor parámetro λˆ.\n",
        "λˆ = np.sum(Lambdas * Posteriori)\n",
        "print('Mejor parámetro λˆ = {}'.format(str(λˆ.round(2))))"
      ],
      "metadata": {
        "colab": {
          "base_uri": "https://localhost:8080/"
        },
        "id": "cufDXpxKemO5",
        "outputId": "f30fa9bf-8298-4466-f3d2-e5485dced5c4"
      },
      "execution_count": 64,
      "outputs": [
        {
          "output_type": "stream",
          "name": "stdout",
          "text": [
            "Mejor parámetro λˆ = 3.27\n"
          ]
        }
      ]
    }
  ]
}