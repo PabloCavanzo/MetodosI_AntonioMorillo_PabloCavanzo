{
  "nbformat": 4,
  "nbformat_minor": 0,
  "metadata": {
    "colab": {
      "provenance": [],
      "authorship_tag": "ABX9TyNiLrCDuQbOnFy9wiPSwRbX",
      "include_colab_link": true
    },
    "kernelspec": {
      "name": "python3",
      "display_name": "Python 3"
    },
    "language_info": {
      "name": "python"
    }
  },
  "cells": [
    {
      "cell_type": "markdown",
      "metadata": {
        "id": "view-in-github",
        "colab_type": "text"
      },
      "source": [
        "<a href=\"https://colab.research.google.com/github/PabloCavanzo/MetodosI_AntonioMorillo_PabloCavanzo/blob/main/Tarea%206/6.8.7.ipynb\" target=\"_parent\"><img src=\"https://colab.research.google.com/assets/colab-badge.svg\" alt=\"Open In Colab\"/></a>"
      ]
    },
    {
      "cell_type": "code",
      "execution_count": null,
      "metadata": {
        "id": "oEW_e5o9zl0I"
      },
      "outputs": [],
      "source": [
        "import numpy as np"
      ]
    },
    {
      "cell_type": "code",
      "source": [
        "def prob_sim_7(events, dice=5, caras=6):\n",
        "  dados = np.random.randint(1,caras+1, size=(events,dice))\n",
        "  Ω = events\n",
        "  A = 0\n",
        "  B = 0\n",
        "  C = 0\n",
        "  for i in dados:\n",
        "    _, conteos = np.unique(i, return_counts=True)\n",
        "    if np.sum(conteos == 2) == 1 and len(conteos) == (dice - 1):\n",
        "      A += 1\n",
        "    if np.sum(conteos == 2) == 2 and len(conteos) == (dice - 2):\n",
        "      B += 1\n",
        "    if np.sum(conteos == 4) == 1 and len(conteos) == (dice - 3):\n",
        "      C += 1\n",
        "  return Ω, A, B, C"
      ],
      "metadata": {
        "id": "teRRxk2fzrSt"
      },
      "execution_count": 33,
      "outputs": []
    },
    {
      "cell_type": "code",
      "source": [
        "Ω, A, B, C = prob_sim_7(10**5)\n",
        "PA = A/Ω\n",
        "PB = B/Ω\n",
        "PC = C/Ω\n",
        "print('La probabilidad P(A) de obtener 1 par es: P(A) = {} \\nLa probabilidad P(B) de obtener 2 pares es: P(B) = {} \\nLa probabilidad P(C) de obtener 4 de la misma cara es: P(C) = {}\\n(obtenidas experimentralmente)'.format(str(PA), str(PB), str(PC)))"
      ],
      "metadata": {
        "colab": {
          "base_uri": "https://localhost:8080/"
        },
        "id": "NadtxE1Q1mDp",
        "outputId": "f70a028d-fdec-4578-b924-8f9064ab8db6"
      },
      "execution_count": 34,
      "outputs": [
        {
          "output_type": "stream",
          "name": "stdout",
          "text": [
            "La probabilidad P(A) de obtener 1 par es: P(A) = 0.46074 \n",
            "La probabilidad P(B) de obtener 2 pares es: P(B) = 0.23376 \n",
            "La probabilidad P(C) de obtener 4 de la misma cara es: P(C) = 0.01897\n",
            "(obtenidas experimentralmente)\n"
          ]
        }
      ]
    },
    {
      "cell_type": "code",
      "source": [
        "(np.isclose(PA,25/54,atol=1e-2),(np.isclose(PB,25/108,atol=1e-2)),(np.isclose(PC,25/1296,atol=1e-2)))"
      ],
      "metadata": {
        "colab": {
          "base_uri": "https://localhost:8080/"
        },
        "id": "92JbbMny6yEG",
        "outputId": "a03eeee4-81ff-474b-8a0b-ffeb33f8d69d"
      },
      "execution_count": 35,
      "outputs": [
        {
          "output_type": "execute_result",
          "data": {
            "text/plain": [
              "(True, True, True)"
            ]
          },
          "metadata": {},
          "execution_count": 35
        }
      ]
    }
  ]
}