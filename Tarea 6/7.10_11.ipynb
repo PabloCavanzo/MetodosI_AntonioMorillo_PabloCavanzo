{
 "cells": [
  {
   "cell_type": "code",
   "execution_count": 6,
   "metadata": {
    "id": "3L6qlWimHgzo"
   },
   "outputs": [
    {
     "name": "stdout",
     "output_type": "stream",
     "text": [
      "a)\n",
      "Momento 1: 10.971325773499348\n",
      "Momento 2: 41.66589965644818\n",
      "\n",
      "b)\n",
      "Momento 1: 10.971325773499345\n",
      "Momento 2: 41.670066663114504\n",
      "\n",
      "c)\n",
      "Correlación 1 y 2: 0.0068041551629009584\n",
      "Correlación 1 y 3: 0.0013847081948587894\n",
      "Correlación 2 y 3: -0.000748170323068749\n"
     ]
    }
   ],
   "source": [
    "import numpy as np\n",
    "from scipy.stats import gamma, norm, uniform\n",
    "\n",
    "N = 10**4\n",
    "a = np.array([1,2,-1])\n",
    "\n",
    "X1 = gamma.rvs(a=2,scale=3,size=N)\n",
    "X2 = norm.rvs(loc=5,scale=2,size=N)\n",
    "X3 = uniform.rvs(loc=0,scale=10,size=N)\n",
    "\n",
    "X = a[0]*X1 + a[1]*X2 + a[2]*X3\n",
    "m1 = np.mean(X)\n",
    "m2 = np.var(X)\n",
    "print(f\"a)\\nMomento 1: {m1}\\nMomento 2: {m2}\")\n",
    "\n",
    "Xv = [X1,X2,X3]\n",
    "m11 = a.T @ np.mean(Xv,axis=1).T\n",
    "m22 = a.T @ np.cov(Xv) @ a\n",
    "print(f\"\\nb)\\nMomento 1: {m11}\\nMomento 2: {m22}\")\n",
    "\n",
    "matriz_correlacion = np.corrcoef([X1,X2,X3])\n",
    "print(f\"\\nc)\\nCorrelación 1 y 2: {matriz_correlacion[0,1]}\\nCorrelación 1 y 3: {matriz_correlacion[0,2]}\\nCorrelación 2 y 3: {matriz_correlacion[1,2]}\")"
   ]
  }
 ],
 "metadata": {
  "colab": {
   "provenance": []
  },
  "kernelspec": {
   "display_name": "Python 3",
   "name": "python3"
  },
  "language_info": {
   "codemirror_mode": {
    "name": "ipython",
    "version": 3
   },
   "file_extension": ".py",
   "mimetype": "text/x-python",
   "name": "python",
   "nbconvert_exporter": "python",
   "pygments_lexer": "ipython3",
   "version": "3.12.5"
  }
 },
 "nbformat": 4,
 "nbformat_minor": 0
}
