{
 "cells": [
  {
   "cell_type": "code",
   "execution_count": 1,
   "id": "e4e213dd-2d62-47ef-a3b2-0517464e84da",
   "metadata": {},
   "outputs": [
    {
     "name": "stdout",
     "output_type": "stream",
     "text": [
      "Estado estable:  [0. 0. 1.]\n",
      "Probabilidad de ambas estaciones ocupadas: 0.0%.\n",
      "Probabilidad de una de las dos estaciones ocupadas: 0.0%.\n",
      "Probabilidad de que no haya nada en producción: 100.0%.\n"
     ]
    }
   ],
   "source": [
    "import numpy as np\n",
    "\n",
    "def GetJacobian(f, x, h=1e-3):\n",
    "    m = len(f)\n",
    "    n = x.shape[0]\n",
    "    J = np.zeros((m, n))\n",
    "  \n",
    "    for i in range(m):\n",
    "        for j in range(n):\n",
    "            rf = x.copy()\n",
    "            rb = x.copy()\n",
    "      \n",
    "            rf[j] += h\n",
    "            rb[j] -= h\n",
    "            \n",
    "            J[i, j] = (f[i](*rf) - f[i](*rb)) / (2 * h)\n",
    "      \n",
    "    return J\n",
    "\n",
    "def evalf(f,x):\n",
    "    n = len(f)\n",
    "    vector = np.array([])\n",
    "    \n",
    "    for i in range(n):\n",
    "        vector = np.append(vector,f[i](*x))\n",
    "        \n",
    "    return vector\n",
    "\n",
    "def new_x(f, x, lr):\n",
    "    n = x.size\n",
    "    J = GetJacobian(f,x)\n",
    "    G = evalf(f,x)\n",
    "    x = x - lr * np.dot(J,G)\n",
    "        \n",
    "    return x,G\n",
    "\n",
    "def descenso(f, x, lr,itmax=10000, error=1e-16):\n",
    "    it = 0\n",
    "    for i in range(itmax):\n",
    "        it += 1\n",
    "        x, G = new_x(f, x, lr)\n",
    "        if np.linalg.norm(0.5*np.dot(G.T,G)) < error:\n",
    "            break\n",
    "    return x, it\n",
    "\n",
    "\n",
    "T = np.array([[0.1, 0.  , 0.],\n",
    "             [0.9, 0.05, 0.],\n",
    "             [0. , 0.95, 1]])\n",
    "\n",
    "Sistema  = (lambda x1,x2,x3: T[0,0]*x1 + T[0,1]*x2 + T[0,2]*x3 - x1,\\\n",
    "            lambda x1,x2,x3: T[1,0]*x1 - T[1,1]*x2 + T[1,2]*x3 - x2,\\\n",
    "            lambda x1,x2,x3: x1 + x2 + x3 - 1)\n",
    "\n",
    "x0 = np.array([1.,1.,1.])\n",
    "\n",
    "estable_1 = descenso(Sistema,x0,0.01)[0]\n",
    "print(\"Estado estable: \", np.round(estable_1,4))\n",
    "\n",
    "s1_y_s2 = estable_1[0] * estable_1[1]\n",
    "s1_o_s2 = estable_1[0] + estable_1[1]\n",
    "no_s1 = 1 - estable_1[0]\n",
    "\n",
    "print(f\"Probabilidad de ambas estaciones ocupadas: {round(s1_y_s2,5)*100}%.\")\n",
    "print(f\"Probabilidad de una de las dos estaciones ocupadas: {round(s1_o_s2,4)*100}%.\")\n",
    "print(f\"Probabilidad de que no haya nada en producción: {round(no_s1,5)*100}%.\")\n",
    "\n"
   ]
  }
 ],
 "metadata": {
  "kernelspec": {
   "display_name": "Python 3",
   "language": "python",
   "name": "python3"
  },
  "language_info": {
   "codemirror_mode": {
    "name": "ipython",
    "version": 3
   },
   "file_extension": ".py",
   "mimetype": "text/x-python",
   "name": "python",
   "nbconvert_exporter": "python",
   "pygments_lexer": "ipython3",
   "version": "3.12.5"
  }
 },
 "nbformat": 4,
 "nbformat_minor": 5
}
